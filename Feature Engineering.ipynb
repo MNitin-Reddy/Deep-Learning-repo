{
 "cells": [
  {
   "cell_type": "code",
   "execution_count": 1,
   "id": "4179eab9",
   "metadata": {},
   "outputs": [],
   "source": [
    "import numpy as np\n",
    "import pandas as pd"
   ]
  },
  {
   "cell_type": "code",
   "execution_count": 2,
   "id": "753925e0",
   "metadata": {},
   "outputs": [],
   "source": [
    "df=pd.DataFrame({'Text':['Learnbay teaches NLP',\n",
    "                        'NLP is in demand in market',\n",
    "                        'We have to learn NLP']})"
   ]
  },
  {
   "cell_type": "code",
   "execution_count": 3,
   "id": "004ef9b4",
   "metadata": {},
   "outputs": [
    {
     "data": {
      "text/html": [
       "<div>\n",
       "<style scoped>\n",
       "    .dataframe tbody tr th:only-of-type {\n",
       "        vertical-align: middle;\n",
       "    }\n",
       "\n",
       "    .dataframe tbody tr th {\n",
       "        vertical-align: top;\n",
       "    }\n",
       "\n",
       "    .dataframe thead th {\n",
       "        text-align: right;\n",
       "    }\n",
       "</style>\n",
       "<table border=\"1\" class=\"dataframe\">\n",
       "  <thead>\n",
       "    <tr style=\"text-align: right;\">\n",
       "      <th></th>\n",
       "      <th>Text</th>\n",
       "    </tr>\n",
       "  </thead>\n",
       "  <tbody>\n",
       "    <tr>\n",
       "      <th>0</th>\n",
       "      <td>Learnbay teaches NLP</td>\n",
       "    </tr>\n",
       "    <tr>\n",
       "      <th>1</th>\n",
       "      <td>NLP is in demand in market</td>\n",
       "    </tr>\n",
       "    <tr>\n",
       "      <th>2</th>\n",
       "      <td>We have to learn NLP</td>\n",
       "    </tr>\n",
       "  </tbody>\n",
       "</table>\n",
       "</div>"
      ],
      "text/plain": [
       "                         Text\n",
       "0        Learnbay teaches NLP\n",
       "1  NLP is in demand in market\n",
       "2        We have to learn NLP"
      ]
     },
     "execution_count": 3,
     "metadata": {},
     "output_type": "execute_result"
    }
   ],
   "source": [
    "df"
   ]
  },
  {
   "cell_type": "code",
   "execution_count": 4,
   "id": "a5b1bba1",
   "metadata": {},
   "outputs": [],
   "source": [
    "from sklearn.feature_extraction.text import CountVectorizer"
   ]
  },
  {
   "cell_type": "code",
   "execution_count": 5,
   "id": "3b38f604",
   "metadata": {},
   "outputs": [],
   "source": [
    "cv=CountVectorizer(binary=True)"
   ]
  },
  {
   "cell_type": "code",
   "execution_count": 9,
   "id": "4490986f",
   "metadata": {},
   "outputs": [],
   "source": [
    "bow_true=cv.fit_transform(df['Text'])"
   ]
  },
  {
   "cell_type": "code",
   "execution_count": 11,
   "id": "8a13ab89",
   "metadata": {},
   "outputs": [
    {
     "data": {
      "text/plain": [
       "array([[0, 0, 0, 0, 0, 1, 0, 1, 1, 0, 0],\n",
       "       [1, 0, 1, 1, 0, 0, 1, 1, 0, 0, 0],\n",
       "       [0, 1, 0, 0, 1, 0, 0, 1, 0, 1, 1]], dtype=int64)"
      ]
     },
     "execution_count": 11,
     "metadata": {},
     "output_type": "execute_result"
    }
   ],
   "source": [
    "bow_true.toarray()"
   ]
  },
  {
   "cell_type": "code",
   "execution_count": 13,
   "id": "9b1d3459",
   "metadata": {},
   "outputs": [
    {
     "data": {
      "text/plain": [
       "11"
      ]
     },
     "execution_count": 13,
     "metadata": {},
     "output_type": "execute_result"
    }
   ],
   "source": [
    "len(cv.vocabulary_)"
   ]
  },
  {
   "cell_type": "code",
   "execution_count": 17,
   "id": "f1883bd5",
   "metadata": {},
   "outputs": [
    {
     "data": {
      "text/plain": [
       "{'learnbay': 5,\n",
       " 'teaches': 8,\n",
       " 'nlp': 7,\n",
       " 'is': 3,\n",
       " 'in': 2,\n",
       " 'demand': 0,\n",
       " 'market': 6,\n",
       " 'we': 10,\n",
       " 'have': 1,\n",
       " 'to': 9,\n",
       " 'learn': 4}"
      ]
     },
     "execution_count": 17,
     "metadata": {},
     "output_type": "execute_result"
    }
   ],
   "source": [
    "cv.vocabulary_"
   ]
  },
  {
   "cell_type": "code",
   "execution_count": 14,
   "id": "3d3c5ff6",
   "metadata": {},
   "outputs": [],
   "source": [
    "cv_1=CountVectorizer(binary=False)"
   ]
  },
  {
   "cell_type": "code",
   "execution_count": 15,
   "id": "1d72908c",
   "metadata": {},
   "outputs": [],
   "source": [
    "bow_false=cv_1.fit_transform(df['Text'])"
   ]
  },
  {
   "cell_type": "code",
   "execution_count": 16,
   "id": "4e947c10",
   "metadata": {},
   "outputs": [
    {
     "data": {
      "text/plain": [
       "array([[0, 0, 0, 0, 0, 1, 0, 1, 1, 0, 0],\n",
       "       [1, 0, 2, 1, 0, 0, 1, 1, 0, 0, 0],\n",
       "       [0, 1, 0, 0, 1, 0, 0, 1, 0, 1, 1]], dtype=int64)"
      ]
     },
     "execution_count": 16,
     "metadata": {},
     "output_type": "execute_result"
    }
   ],
   "source": [
    "bow_false.toarray()"
   ]
  },
  {
   "cell_type": "code",
   "execution_count": null,
   "id": "5fb4b7a8",
   "metadata": {},
   "outputs": [],
   "source": []
  }
 ],
 "metadata": {
  "kernelspec": {
   "display_name": "Python 3 (ipykernel)",
   "language": "python",
   "name": "python3"
  },
  "language_info": {
   "codemirror_mode": {
    "name": "ipython",
    "version": 3
   },
   "file_extension": ".py",
   "mimetype": "text/x-python",
   "name": "python",
   "nbconvert_exporter": "python",
   "pygments_lexer": "ipython3",
   "version": "3.9.13"
  }
 },
 "nbformat": 4,
 "nbformat_minor": 5
}
